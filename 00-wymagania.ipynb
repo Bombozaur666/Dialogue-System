{
 "cells": [
  {
   "cell_type": "markdown",
   "id": "61117c67",
   "metadata": {},
   "source": [
    "Systemy dialogowe\n",
    "=================\n",
    "\n",
    "Wymagania\n",
    "---------\n",
    "  - W ramach zajęć studenci realizują zadania w 3-4 osobowych grupach\n",
    "\n",
    "  - Każda grupa powinna założyć wspólne repozytorium kodu na wydziałowym serwerze Git <https://git.wmi.amu.edu.pl/>.\n",
    "\n",
    "  - Skład zespołu oraz link do repozytorium kodu proszę wkleić na kanale ogólnym.\n",
    "\n",
    "Zaliczenie\n",
    "----------\n",
    "\n",
    "Zaliczenie można otrzymać po spełnieniu następujących warunków:\n",
    "\n",
    "  1. Uzyskanie min. 50% punktów.\n",
    "  2. Obecność na zajęciach (zgodnie z regulaminem)."
   ]
  },
  {
   "cell_type": "markdown",
   "id": "63922655",
   "metadata": {},
   "source": [
    "Harmonogram i punktacja\n",
    "-----------------------\n",
    "\n",
    "Zadania są realizowane zgodnie z następującym harmonogramem.\n",
    "\n",
    "| **Termin piątkowy** | **Punkty** | **Temat**                                         |\n",
    "|--------------------:|-----------:|:--------------------------------------------------|\n",
    "|               10.03 |          2 | Chatboty                                          |\n",
    "|               10.03 |          2 | Analiza wymagań                                   |\n",
    "|               24.03 |          2 | Eksperymenty typu „Czarnoksiężnik z OZ”           |\n",
    "|               24.03 |          2 | Struktura dialogu                                 |\n",
    "|               31.03 |          2 | Architektura systemu dialogowego                  |\n",
    "|               31.03 |          2 | Parsing semantyczny, ujednoznacznianie wypowiedzi |\n",
    "|               21.04 |          2 | Zarządzanie dialogiem                             |\n",
    "|               21.04 |          2 | Generowanie odpowiedzi                            |\n",
    "|                5.05 |          2 | Ewaluacja systemów dialogowych                    |\n",
    "|                5.05 |          2 | Ocena końcowa, systemy end-to-end                 |"
   ]
  },
  {
   "cell_type": "markdown",
   "id": "ef2f18e7",
   "metadata": {},
   "source": [
    "Łącznie jest do zdobycia 20 punktów.\n",
    "\n",
    "Ocena jest wystawiana na postawie poniższej tabeli.\n",
    "\n",
    "| Punkty       | Ocena |\n",
    "|--------------|-------|\n",
    "| $[18,20]$      | bdb   |\n",
    "| $[17,18)$      | db+   |\n",
    "| $[14,17)$      | db    |\n",
    "| $[13,14)$      | dst+  |\n",
    "| $[10,13)$      | dst   |\n",
    "| $[0,10)$       | ndst  |"
   ]
  }
 ],
 "metadata": {
  "jupytext": {
   "cell_metadata_filter": "-all",
   "main_language": "python",
   "notebook_metadata_filter": "-all"
  }
 },
 "nbformat": 4,
 "nbformat_minor": 5
}
